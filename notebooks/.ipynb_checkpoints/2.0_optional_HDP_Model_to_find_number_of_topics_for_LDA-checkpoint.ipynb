{
 "cells": [
  {
   "cell_type": "code",
   "execution_count": 1,
   "metadata": {},
   "outputs": [
    {
     "name": "stderr",
     "output_type": "stream",
     "text": [
      "/home/sahand/anaconda3/envs/scopus201/lib/python3.7/site-packages/past/types/oldstr.py:5: DeprecationWarning: Using or importing the ABCs from 'collections' instead of from 'collections.abc' is deprecated, and in 3.8 it will stop working\n",
      "  from collections import Iterable\n",
      "/home/sahand/anaconda3/envs/scopus201/lib/python3.7/site-packages/thinc/neural/train.py:7: DeprecationWarning: Using or importing the ABCs from 'collections' instead of from 'collections.abc' is deprecated, and in 3.8 it will stop working\n",
      "  from .optimizers import Adam, linear_decay\n",
      "/home/sahand/anaconda3/envs/scopus201/lib/python3.7/site-packages/thinc/check.py:4: DeprecationWarning: Using or importing the ABCs from 'collections' instead of from 'collections.abc' is deprecated, and in 3.8 it will stop working\n",
      "  from collections import Sequence, Sized, Iterable, Callable\n",
      "/home/sahand/anaconda3/envs/scopus201/lib/python3.7/site-packages/thinc/check.py:4: DeprecationWarning: Using or importing the ABCs from 'collections' instead of from 'collections.abc' is deprecated, and in 3.8 it will stop working\n",
      "  from collections import Sequence, Sized, Iterable, Callable\n",
      "/home/sahand/anaconda3/envs/scopus201/lib/python3.7/site-packages/nltk/decorators.py:68: DeprecationWarning: `formatargspec` is deprecated since Python 3.5. Use `signature` and the `Signature` object directly\n",
      "  regargs, varargs, varkwargs, defaults, formatvalue=lambda value: \"\"\n",
      "[nltk_data] Downloading package stopwords to /home/sahand/nltk_data...\n",
      "[nltk_data]   Package stopwords is already up-to-date!\n"
     ]
    }
   ],
   "source": [
    "import pickle\n",
    "import gensim\n",
    "import pyLDAvis\n",
    "import pyLDAvis.gensim\n",
    "import spacy\n",
    "import pandas as pd\n",
    "import nltk; nltk.download('stopwords')\n",
    "import gensim.corpora as corpora\n",
    "from gensim.utils import simple_preprocess\n",
    "from gensim.models import CoherenceModel\n",
    "import re\n",
    "import warnings\n",
    "from pprint import pprint"
   ]
  },
  {
   "cell_type": "markdown",
   "metadata": {},
   "source": [
    "## Note this notebook runs an HDP model to find the best number of topics. It is not strictly part of the flow and can be considered optional. It also uses a smaller sample of data to run faster."
   ]
  },
  {
   "cell_type": "code",
   "execution_count": 294,
   "metadata": {},
   "outputs": [],
   "source": [
    "with open('rev_2016_df.pkl', 'rb') as f:\n",
    "    rev_train = pickle.load(f)\n",
    "with open('rev_2017.pkl', 'rb') as f:\n",
    "    rev_test = pickle.load(f)"
   ]
  },
  {
   "cell_type": "code",
   "execution_count": 296,
   "metadata": {},
   "outputs": [],
   "source": [
    "rev_train = rev_train.sample(frac=.3, random_state=1).reset_index(drop=True)\n",
    "rev_test = rev_test.sample(frac=.3, random_state=1).reset_index(drop=True)"
   ]
  },
  {
   "cell_type": "code",
   "execution_count": 327,
   "metadata": {},
   "outputs": [
    {
     "data": {
      "text/plain": [
       "155924"
      ]
     },
     "execution_count": 327,
     "metadata": {},
     "output_type": "execute_result"
    }
   ],
   "source": [
    "len(rev_train)"
   ]
  },
  {
   "cell_type": "markdown",
   "metadata": {},
   "source": [
    "### Read data"
   ]
  },
  {
   "cell_type": "code",
   "execution_count": 4,
   "metadata": {},
   "outputs": [],
   "source": [
    "rev_train = pd.read_csv('/mnt/6016589416586D52/Users/z5204044/Documents/Dataset/Scopus_WoS_Merged/topic_modeling/abstracts - lemmatized - stemmed - 12 Aug 2019.csv',names=['text','orig_index'])[:200000]\n",
    "rev_test = pd.read_csv('/mnt/6016589416586D52/Users/z5204044/Documents/Dataset/Scopus_WoS_Merged/topic_modeling/abstracts - lemmatized - stemmed - 12 Aug 2019.csv',names=['text','orig_index'])[200000:]"
   ]
  },
  {
   "cell_type": "code",
   "execution_count": 9,
   "metadata": {},
   "outputs": [],
   "source": [
    "rev_train = rev_train.sample(50000)\n",
    "rev_test = rev_test.sample(20000)"
   ]
  },
  {
   "cell_type": "code",
   "execution_count": 5,
   "metadata": {},
   "outputs": [],
   "source": [
    "from nltk.corpus import stopwords\n",
    "stop_words = stopwords.words('english')"
   ]
  },
  {
   "cell_type": "code",
   "execution_count": 6,
   "metadata": {},
   "outputs": [],
   "source": [
    "stop_words.extend(['come','order','try','go','get','make','drink','plate','dish','restaurant','place'])"
   ]
  },
  {
   "cell_type": "markdown",
   "metadata": {},
   "source": [
    "#### Remove new lines --- Not needed"
   ]
  },
  {
   "cell_type": "code",
   "execution_count": 7,
   "metadata": {},
   "outputs": [],
   "source": [
    "def strip_newline(series):\n",
    "    return [review.replace('\\n','') for review in series]"
   ]
  },
  {
   "cell_type": "code",
   "execution_count": null,
   "metadata": {},
   "outputs": [],
   "source": [
    "rev_train['text'] = strip_newline(rev_train.text)\n",
    "rev_test['text'] = strip_newline(rev_test.text)"
   ]
  },
  {
   "cell_type": "code",
   "execution_count": 8,
   "metadata": {},
   "outputs": [
    {
     "data": {
      "text/plain": [
       "array(['intellig control system use recent develop field artifici intellig draw signific interest overview given statu applic intellig control robot futur perspect basic concept underli intellig control highlight'],\n",
       "      dtype=object)"
      ]
     },
     "execution_count": 8,
     "metadata": {},
     "output_type": "execute_result"
    }
   ],
   "source": [
    "rev_train.text[21:22].values"
   ]
  },
  {
   "cell_type": "markdown",
   "metadata": {},
   "source": [
    "#### Tokenize and remove punctuation"
   ]
  },
  {
   "cell_type": "code",
   "execution_count": 304,
   "metadata": {},
   "outputs": [],
   "source": [
    "def sent_to_words(sentences):\n",
    "    for sentence in sentences:\n",
    "        yield(gensim.utils.simple_preprocess(str(sentence), deacc=True))"
   ]
  },
  {
   "cell_type": "code",
   "execution_count": 305,
   "metadata": {},
   "outputs": [],
   "source": [
    "words_tr = list(sent_to_words(rev_train.text))\n",
    "words_te = list(sent_to_words(rev_test.text))"
   ]
  },
  {
   "cell_type": "code",
   "execution_count": 306,
   "metadata": {},
   "outputs": [
    {
     "data": {
      "text/plain": [
       "['this',\n",
       " 'place',\n",
       " 'has',\n",
       " 'the',\n",
       " 'best',\n",
       " 'chicken',\n",
       " 'parmesan',\n",
       " 'have',\n",
       " 'ever',\n",
       " 'had']"
      ]
     },
     "execution_count": 306,
     "metadata": {},
     "output_type": "execute_result"
    }
   ],
   "source": [
    "words_tr[21][:10]"
   ]
  },
  {
   "cell_type": "code",
   "execution_count": 307,
   "metadata": {},
   "outputs": [],
   "source": [
    "def remove_stopwords(texts):\n",
    "    return [[word for word in simple_preprocess(str(doc)) if word not in stop_words] for doc in texts]"
   ]
  },
  {
   "cell_type": "code",
   "execution_count": 308,
   "metadata": {},
   "outputs": [],
   "source": [
    "words_tr = remove_stopwords(words_tr)"
   ]
  },
  {
   "cell_type": "code",
   "execution_count": 309,
   "metadata": {},
   "outputs": [],
   "source": [
    "def bigrams(words, bi_min=15, tri_min=10):\n",
    "    bigram = gensim.models.Phrases(words, min_count = bi_min)\n",
    "    trigram = gensim.models.Phrases(bigram[words], min_count = tri_min)\n",
    "    bigram_mod = gensim.models.phrases.Phraser(bigram)\n",
    "    trigram_mod = gensim.models.phrases.Phraser(trigram)\n",
    "    return bigram_mod, trigram_mod"
   ]
  },
  {
   "cell_type": "code",
   "execution_count": 310,
   "metadata": {},
   "outputs": [
    {
     "name": "stderr",
     "output_type": "stream",
     "text": [
      "/home/ubuntu/anaconda3/lib/python3.7/site-packages/gensim/models/phrases.py:494: UserWarning: For a faster implementation, use the gensim.models.phrases.Phraser class\n",
      "  warnings.warn(\"For a faster implementation, use the gensim.models.phrases.Phraser class\")\n"
     ]
    }
   ],
   "source": [
    "bigram_tr, trigram_tr = bigrams(words_tr)"
   ]
  },
  {
   "cell_type": "markdown",
   "metadata": {},
   "source": [
    "#### Check some items"
   ]
  },
  {
   "cell_type": "code",
   "execution_count": 311,
   "metadata": {},
   "outputs": [
    {
     "name": "stdout",
     "output_type": "stream",
     "text": [
      "['my', 'wife', 'and', 'have', 'been', 'going', 'to', 'the', 'desert_ridge', 'location', 'every_week', 'for', 'many_years', 'and', 'have', 'enjoyed', 'the', 'service', 'and', 'quality', 'of', 'the', 'food', 'we', 'have', 'become', 'part', 'of', 'the', 'keg', 'family', 'over', 'these', 'many_years', 'the', 'bar', 'staff', 'has', 'always', 'greeted_us', 'with', 'big', 'smile', 'highly_recommend', 'the', 'prime_rib', 'and', 'filets', 'the', 'french_onion_soup', 'is', 'the', 'best', 'in', 'town', 'jim', 'and', 'alice']\n"
     ]
    }
   ],
   "source": [
    "print(trigram_tr[bigram_tr[words[16345]]][:200])"
   ]
  },
  {
   "cell_type": "markdown",
   "metadata": {},
   "source": [
    "#### Remove stopwords and lemmatize"
   ]
  },
  {
   "cell_type": "code",
   "execution_count": 312,
   "metadata": {},
   "outputs": [],
   "source": [
    "nlp = spacy.load('en', disable=['parser', 'ner'])"
   ]
  },
  {
   "cell_type": "code",
   "execution_count": 313,
   "metadata": {},
   "outputs": [],
   "source": [
    "def lemmatization(texts, allowed_postags=['NOUN','ADJ','VERB','ADV']):\n",
    "    texts_out = []\n",
    "    for sent in texts:\n",
    "        doc = nlp(\" \".join(sent)) \n",
    "        texts_out.append([token.lemma_ for token in doc if token.pos_ in allowed_postags])\n",
    "    return texts_out"
   ]
  },
  {
   "cell_type": "markdown",
   "metadata": {},
   "source": [
    "#### Run test through trained model - will later run test data through trained model here"
   ]
  },
  {
   "cell_type": "code",
   "execution_count": 314,
   "metadata": {},
   "outputs": [],
   "source": [
    "trigrams_tr = [trigram_tr[bigram_tr[review]] for review in words_tr]"
   ]
  },
  {
   "cell_type": "code",
   "execution_count": 319,
   "metadata": {},
   "outputs": [],
   "source": [
    "lemma_lg = lemmatization(trigrams_tr)"
   ]
  },
  {
   "cell_type": "code",
   "execution_count": 325,
   "metadata": {},
   "outputs": [],
   "source": [
    "with open('lemma_lg.pkl', 'wb') as f:\n",
    "    pickle.dump(lemma_lg, f)"
   ]
  },
  {
   "cell_type": "markdown",
   "metadata": {},
   "source": [
    "#### Note difference to un-lemmatized un-stop-worded above"
   ]
  },
  {
   "cell_type": "code",
   "execution_count": 324,
   "metadata": {},
   "outputs": [
    {
     "data": {
      "text/plain": [
       "['hubby',\n",
       " 'eat',\n",
       " 'area',\n",
       " 'service',\n",
       " 'really',\n",
       " 'good',\n",
       " 'manager',\n",
       " 'actually',\n",
       " 'come',\n",
       " 'bit',\n",
       " 'used',\n",
       " 'manager',\n",
       " 'north_york',\n",
       " 'location',\n",
       " 'really',\n",
       " 'nice',\n",
       " 'food',\n",
       " 'good',\n",
       " 'mushroom',\n",
       " 'burger']"
      ]
     },
     "execution_count": 324,
     "metadata": {},
     "output_type": "execute_result"
    }
   ],
   "source": [
    "lemma_lg[8811][:20]"
   ]
  },
  {
   "cell_type": "markdown",
   "metadata": {},
   "source": [
    "## LDA"
   ]
  },
  {
   "cell_type": "markdown",
   "metadata": {},
   "source": [
    "#### Dictionary and Corpus creation for LDA"
   ]
  },
  {
   "cell_type": "code",
   "execution_count": 368,
   "metadata": {},
   "outputs": [],
   "source": [
    "id2word_lg = gensim.corpora.Dictionary(lemma_lg)\n",
    "id2word_lg.filter_extremes(no_below=10, no_above=0.35)\n",
    "id2word_lg.compactify()\n",
    "id2word_lg.save('train_dict_lg')\n",
    "corpus_lg = [id2word_lg.doc2bow(text) for text in lemma_lg]"
   ]
  },
  {
   "cell_type": "code",
   "execution_count": 369,
   "metadata": {},
   "outputs": [],
   "source": [
    "with open('corpus_lg.pkl', 'wb') as f:\n",
    "    pickle.dump(corpus_lg, f)"
   ]
  },
  {
   "cell_type": "code",
   "execution_count": 397,
   "metadata": {},
   "outputs": [
    {
     "data": {
      "text/plain": [
       "[(25, 1), (65, 1)]"
      ]
     },
     "execution_count": 397,
     "metadata": {},
     "output_type": "execute_result"
    }
   ],
   "source": [
    "corpus_lg[21][:2]"
   ]
  },
  {
   "cell_type": "code",
   "execution_count": 396,
   "metadata": {},
   "outputs": [
    {
     "data": {
      "text/plain": [
       "[('cook', 1),\n",
       " ('meal', 1),\n",
       " ('back', 1),\n",
       " ('restaurant', 1),\n",
       " ('serve', 1),\n",
       " ('try', 1),\n",
       " ('month', 1),\n",
       " ('las_vegas', 1),\n",
       " ('blew_away', 1),\n",
       " ('chicken_parmesan', 1),\n",
       " ('coming', 1),\n",
       " ('creative', 1),\n",
       " ('ever', 2),\n",
       " ('favorite', 1),\n",
       " ('huge_portion', 1),\n",
       " ('hundred', 1),\n",
       " ('present', 1),\n",
       " ('shape', 1),\n",
       " ('square', 1),\n",
       " ('thin', 1),\n",
       " ('way', 1)]"
      ]
     },
     "execution_count": 396,
     "metadata": {},
     "output_type": "execute_result"
    }
   ],
   "source": [
    "[(id2word_lg[id], freq) for id, freq in corpus_lg[21]]"
   ]
  },
  {
   "cell_type": "markdown",
   "metadata": {},
   "source": [
    "## HDP Model - auto-dinals the best number of topics"
   ]
  },
  {
   "cell_type": "code",
   "execution_count": 399,
   "metadata": {},
   "outputs": [],
   "source": [
    "from gensim.models import HdpModel\n",
    "hdp = HdpModel(corpus_lg, id2word_lg, chunksize=10000)"
   ]
  },
  {
   "cell_type": "code",
   "execution_count": 373,
   "metadata": {},
   "outputs": [
    {
     "data": {
      "text/plain": [
       "20"
      ]
     },
     "execution_count": 373,
     "metadata": {},
     "output_type": "execute_result"
    }
   ],
   "source": [
    "len(hdp.print_topics())"
   ]
  },
  {
   "cell_type": "code",
   "execution_count": 376,
   "metadata": {},
   "outputs": [
    {
     "data": {
      "text/plain": [
       "[(0,\n",
       "  '0.004*great + 0.003*service + 0.002*order + 0.002*come + 0.002*get + 0.002*really + 0.002*also + 0.002*would + 0.002*love + 0.002*go'),\n",
       " (1,\n",
       "  '0.001*great + 0.001*order + 0.001*service + 0.001*go + 0.001*love + 0.001*also + 0.001*come + 0.001*get + 0.001*would + 0.001*pizza'),\n",
       " (2,\n",
       "  '0.001*great + 0.001*server + 0.000*service + 0.000*come + 0.000*uptown_charlotte + 0.000*single_item + 0.000*greatly_disappoint + 0.000*downtown_lv + 0.000*read_reviews + 0.000*consequently'),\n",
       " (3,\n",
       "  '0.001*really + 0.000*missing_something + 0.000*coup + 0.000*great + 0.000*uncooked + 0.000*lake + 0.000*bare_bone + 0.000*racism + 0.000*hard_boiled_egg + 0.000*simplify'),\n",
       " (4,\n",
       "  '0.000*great + 0.000*coldest + 0.000*rice_pilaf + 0.000*ummm + 0.000*science + 0.000*compared_other + 0.000*lives_hype + 0.000*nacho_cheese + 0.000*groove + 0.000*sunny_side'),\n",
       " (5,\n",
       "  '0.001*fahrenheit + 0.000*watch + 0.000*blueberry_danish + 0.000*chef + 0.000*later_night + 0.000*bound + 0.000*sampler + 0.000*whiz + 0.000*owner_read + 0.000*partly'),\n",
       " (6,\n",
       "  '0.000*lucky_charm + 0.000*side + 0.000*return + 0.000*fraud + 0.000*packing + 0.000*right_across_street + 0.000*screaming_orgasm + 0.000*roja + 0.000*jasmine_tea + 0.000*helicopter'),\n",
       " (7,\n",
       "  '0.000*tamago + 0.000*new_ownership + 0.000*neat + 0.000*tableside_guacamole + 0.000*chipotle_mayo + 0.000*stoke + 0.000*ware + 0.000*firehouse + 0.000*moisture + 0.000*feel_guilty'),\n",
       " (8,\n",
       "  '0.000*review_help + 0.000*specials_board + 0.000*pod + 0.000*tweaking + 0.000*exhausted + 0.000*decent_sized + 0.000*gain + 0.000*vein + 0.000*ever_seen + 0.000*scampi'),\n",
       " (9,\n",
       "  '0.000*hawaiian_bbq + 0.000*revenge + 0.000*autre + 0.000*infuse + 0.000*thin_thick + 0.000*thai_tea + 0.000*cooked_medium + 0.000*fantastically + 0.000*angus + 0.000*authentic_cuban'),\n",
       " (10,\n",
       "  '0.000*que_je + 0.000*minimize + 0.000*namely + 0.000*smoked_salmon + 0.000*social_media + 0.000*parsnip + 0.000*thursday_evening + 0.000*hemp + 0.000*tri + 0.000*chai_latte'),\n",
       " (11,\n",
       "  '0.000*skull + 0.000*piquillo_pepper + 0.000*zoe + 0.000*godfather + 0.000*outback + 0.000*really_appreciat + 0.000*shortly_thereafter + 0.000*prob + 0.000*sitting_front + 0.000*dot'),\n",
       " (12,\n",
       "  '0.000*sushi + 0.000*gentle + 0.000*hope_stay + 0.000*never_seen + 0.000*dayclub + 0.000*michael_jackson + 0.000*plenty_choice + 0.000*long_story_short + 0.000*sliver + 0.000*trademark'),\n",
       " (13,\n",
       "  '0.000*ipas + 0.000*nail + 0.000*five_star_rat + 0.000*sol + 0.000*minced_beef + 0.000*signify + 0.000*talking_stick + 0.000*corn_cob + 0.000*idli + 0.000*mojo'),\n",
       " (14,\n",
       "  '0.000*wynn_encore + 0.000*opened_bag + 0.000*parking_limit + 0.000*dry + 0.000*taro_boba + 0.000*verity + 0.000*right_next + 0.000*hood + 0.000*lemon_butter + 0.000*french_onion_soup')]"
      ]
     },
     "execution_count": 376,
     "metadata": {},
     "output_type": "execute_result"
    }
   ],
   "source": [
    "hdp.print_topics(num_topics=20)"
   ]
  },
  {
   "cell_type": "code",
   "execution_count": null,
   "metadata": {},
   "outputs": [],
   "source": []
  }
 ],
 "metadata": {
  "kernelspec": {
   "display_name": "Python 3",
   "language": "python",
   "name": "python3"
  },
  "language_info": {
   "codemirror_mode": {
    "name": "ipython",
    "version": 3
   },
   "file_extension": ".py",
   "mimetype": "text/x-python",
   "name": "python",
   "nbconvert_exporter": "python",
   "pygments_lexer": "ipython3",
   "version": "3.7.3"
  }
 },
 "nbformat": 4,
 "nbformat_minor": 2
}
